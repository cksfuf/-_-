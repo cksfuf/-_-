{
 "cells": [
  {
   "cell_type": "code",
   "execution_count": null,
   "id": "32f1966e-b8b0-4e8c-b851-a0fda54641d5",
   "metadata": {},
   "outputs": [],
   "source": [
    "df = pd.read_csv('train_1722.csv', encoding='cp949')\n",
    "ssec1 = df[(df['year'] == 2019) | (df['year'] == 2020)]\n",
    "\n",
    "ssec2 = as.numeric(ssec1[,2])\n",
    "\n",
    "ssec.ts = ts(data = ssec2, frequency = 12, start = c(2002, 1))\n",
    "plot(ssec.ts)\n",
    "#------------------------------------------------------------------------------\n",
    "tt = 1:length(ssec.ts) # 독립변수\n",
    "\n",
    "reg1 = lm(ssec.ts~tt) # 시계열 데이터를 설명하기 위한 직선식\n",
    "summary(reg1)\n",
    "reg2 = lm(ssec.ts~tt+I(tt^2)) # 더욱 정확한 직선을 위한 2차식 적합\n",
    "summary(reg2)\n",
    "reg3 = lm(log(ssec.ts)~tt) # 분산을 일정하게 하기위해 로그변환\n",
    "summary(reg3)\n",
    "\n",
    "# 잔차제곱합 비교\n",
    "sse1 = sum(reg1$residuals^2)\n",
    "sse2 = sum(reg2$residuals^2)\n",
    "sse3 = sum((ssec.ts-exp(reg3$fitted.values))^2)\n",
    "which.min(c(sse1, sse2, sse3))\n",
    "# reg2 이 잔차제곱합이 가장 작음. 즉, 2차식 적합한 모형이 설명이 좋음"
   ]
  }
 ],
 "metadata": {
  "kernelspec": {
   "display_name": "Python 3 (ipykernel)",
   "language": "python",
   "name": "python3"
  },
  "language_info": {
   "codemirror_mode": {
    "name": "ipython",
    "version": 3
   },
   "file_extension": ".py",
   "mimetype": "text/x-python",
   "name": "python",
   "nbconvert_exporter": "python",
   "pygments_lexer": "ipython3",
   "version": "3.12.6"
  }
 },
 "nbformat": 4,
 "nbformat_minor": 5
}
